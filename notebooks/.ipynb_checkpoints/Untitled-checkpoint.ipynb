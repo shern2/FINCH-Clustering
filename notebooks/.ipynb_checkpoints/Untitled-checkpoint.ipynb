{
 "cells": [
  {
   "cell_type": "code",
   "execution_count": 3,
   "id": "c6683fb3-f3cb-4966-9f3e-318ee3d39055",
   "metadata": {},
   "outputs": [],
   "source": [
    "import os.path as osp\n",
    "import numpy as np\n",
    "from finch import FINCH"
   ]
  },
  {
   "cell_type": "code",
   "execution_count": 9,
   "id": "8b08eae8-88ec-429f-bf32-8c3774634d1d",
   "metadata": {},
   "outputs": [],
   "source": [
    "def intdict2ndarray(d, default_val=-1):\n",
    "    arr = np.zeros(len(d)) + default_val\n",
    "    for k, v in d.items():\n",
    "        arr[k] = v\n",
    "    return arr\n",
    "\n",
    "def read_probs(path, inst_num, feat_dim, dtype=np.float32, verbose=False):\n",
    "    assert (inst_num > 0 or inst_num == -1) and feat_dim > 0\n",
    "    count = -1\n",
    "    if inst_num > 0:\n",
    "        count = inst_num * feat_dim\n",
    "        print('count:',count)\n",
    "    probs = np.fromfile(path, dtype=dtype, count=count)\n",
    "    if feat_dim > 1:\n",
    "        probs = probs.reshape(inst_num, feat_dim)\n",
    "    if verbose:\n",
    "        print('[{}] shape: {}'.format(path, probs.shape))\n",
    "    return probs\n",
    "\n",
    "\n",
    "def read_meta(fn_meta, start_pos=0):\n",
    "    lb2idxs = {}\n",
    "    idx2lb = {}\n",
    "    with open(fn_meta) as f:\n",
    "        for idx, x in enumerate(f.readlines()[start_pos:]):\n",
    "            lb = int(x.strip())\n",
    "            if lb not in lb2idxs:\n",
    "                lb2idxs[lb] = []\n",
    "            lb2idxs[lb] += [idx]\n",
    "            idx2lb[idx] = lb\n",
    "\n",
    "    inst_num = len(idx2lb)\n",
    "    cls_num = len(lb2idxs)    \n",
    "    return lb2idxs, idx2lb\n",
    "\n",
    "\n",
    "def load_ms1m(split=None,part=None, feature_dim=256):\n",
    "    # split: \"train\" or \"test\"\n",
    "    # part : MS!M data part : part0:train ; part[1,3,5,7,9]: test partitions\n",
    "    data_path = \"/cvhci/data/FaceClust/MS1M\"\n",
    "    lb2idxs, idx2lb = read_meta(osp.join(data_path, \"data/labels\", \"part{}_{}.meta\".format(part, split)))\n",
    "    inst_num = len(idx2lb)\n",
    "    cls_num = len(lb2idxs)\n",
    "    gt_labels = intdict2ndarray(idx2lb)\n",
    "    features_path = osp.join(data_path, \"data/features\", \"part{}_{}.bin\".format(part, split))\n",
    "    features = read_probs(features_path, inst_num, feature_dim)\n",
    "    \n",
    "    knns = np.load(osp.join(data_path, \"knns\", \"part{}_{}/faiss_k_80.npz\".format(part, split)), allow_pickle=True)['data']\n",
    "    print('[{}:{}] #cls: {}, #inst: {}'.format(splt,part, cls_num, inst_num))\n",
    "    return features, gt_labels, knns"
   ]
  },
  {
   "cell_type": "code",
   "execution_count": 10,
   "id": "f6128ba3-d723-4b12-91ce-8be41aea0fa3",
   "metadata": {},
   "outputs": [
    {
     "name": "stdout",
     "output_type": "stream",
     "text": [
      "[/cvhci/data/FaceClust/MS1M/data/labels/part0_train.meta] #cls: 8573, #inst: 576494\n",
      "count: 147582464\n"
     ]
    },
    {
     "ename": "NameError",
     "evalue": "name 'splt' is not defined",
     "output_type": "error",
     "traceback": [
      "\u001b[0;31m---------------------------------------------------------------------------\u001b[0m",
      "\u001b[0;31mNameError\u001b[0m                                 Traceback (most recent call last)",
      "\u001b[0;32m/tmp/ipykernel_80477/230092620.py\u001b[0m in \u001b[0;36m<module>\u001b[0;34m\u001b[0m\n\u001b[1;32m      1\u001b[0m \u001b[0msplit\u001b[0m \u001b[0;34m=\u001b[0m \u001b[0;34m\"train\"\u001b[0m\u001b[0;34m\u001b[0m\u001b[0;34m\u001b[0m\u001b[0m\n\u001b[1;32m      2\u001b[0m \u001b[0mpart\u001b[0m \u001b[0;34m=\u001b[0m \u001b[0;36m0\u001b[0m\u001b[0;34m\u001b[0m\u001b[0;34m\u001b[0m\u001b[0m\n\u001b[0;32m----> 3\u001b[0;31m \u001b[0mfeatures\u001b[0m\u001b[0;34m,\u001b[0m \u001b[0mgt_labels\u001b[0m\u001b[0;34m,\u001b[0m \u001b[0mknns\u001b[0m \u001b[0;34m=\u001b[0m \u001b[0mload_ms1m\u001b[0m\u001b[0;34m(\u001b[0m\u001b[0msplit\u001b[0m\u001b[0;34m,\u001b[0m \u001b[0mpart\u001b[0m\u001b[0;34m)\u001b[0m\u001b[0;34m\u001b[0m\u001b[0;34m\u001b[0m\u001b[0m\n\u001b[0m",
      "\u001b[0;32m/tmp/ipykernel_80477/1418836698.py\u001b[0m in \u001b[0;36mload_ms1m\u001b[0;34m(split, part, feature_dim)\u001b[0m\n\u001b[1;32m     49\u001b[0m \u001b[0;34m\u001b[0m\u001b[0m\n\u001b[1;32m     50\u001b[0m     \u001b[0mknns\u001b[0m \u001b[0;34m=\u001b[0m \u001b[0mnp\u001b[0m\u001b[0;34m.\u001b[0m\u001b[0mload\u001b[0m\u001b[0;34m(\u001b[0m\u001b[0mosp\u001b[0m\u001b[0;34m.\u001b[0m\u001b[0mjoin\u001b[0m\u001b[0;34m(\u001b[0m\u001b[0mdata_path\u001b[0m\u001b[0;34m,\u001b[0m \u001b[0;34m\"knns\"\u001b[0m\u001b[0;34m,\u001b[0m \u001b[0;34m\"part{}_{}/faiss_k_80.npz\"\u001b[0m\u001b[0;34m.\u001b[0m\u001b[0mformat\u001b[0m\u001b[0;34m(\u001b[0m\u001b[0mpart\u001b[0m\u001b[0;34m,\u001b[0m \u001b[0msplit\u001b[0m\u001b[0;34m)\u001b[0m\u001b[0;34m)\u001b[0m\u001b[0;34m,\u001b[0m \u001b[0mallow_pickle\u001b[0m\u001b[0;34m=\u001b[0m\u001b[0;32mTrue\u001b[0m\u001b[0;34m)\u001b[0m\u001b[0;34m[\u001b[0m\u001b[0;34m'data'\u001b[0m\u001b[0;34m]\u001b[0m\u001b[0;34m\u001b[0m\u001b[0;34m\u001b[0m\u001b[0m\n\u001b[0;32m---> 51\u001b[0;31m     \u001b[0mprint\u001b[0m\u001b[0;34m(\u001b[0m\u001b[0;34m'[{}:{}] #cls: {}, #inst: {}'\u001b[0m\u001b[0;34m.\u001b[0m\u001b[0mformat\u001b[0m\u001b[0;34m(\u001b[0m\u001b[0msplt\u001b[0m\u001b[0;34m,\u001b[0m\u001b[0mpart\u001b[0m\u001b[0;34m,\u001b[0m \u001b[0mcls_num\u001b[0m\u001b[0;34m,\u001b[0m \u001b[0minst_num\u001b[0m\u001b[0;34m)\u001b[0m\u001b[0;34m)\u001b[0m\u001b[0;34m\u001b[0m\u001b[0;34m\u001b[0m\u001b[0m\n\u001b[0m\u001b[1;32m     52\u001b[0m     \u001b[0;32mreturn\u001b[0m \u001b[0mfeatures\u001b[0m\u001b[0;34m,\u001b[0m \u001b[0mgt_labels\u001b[0m\u001b[0;34m,\u001b[0m \u001b[0mknns\u001b[0m\u001b[0;34m\u001b[0m\u001b[0;34m\u001b[0m\u001b[0m\n",
      "\u001b[0;31mNameError\u001b[0m: name 'splt' is not defined"
     ]
    }
   ],
   "source": [
    "split = \"train\"\n",
    "part = 0    \n",
    "features, gt_labels, knns = load_ms1m(split, part)"
   ]
  },
  {
   "cell_type": "code",
   "execution_count": 6,
   "id": "b2826d6c-8740-45cb-8620-6f097aa4026e",
   "metadata": {},
   "outputs": [
    {
     "data": {
      "text/plain": [
       "(73791232,)"
      ]
     },
     "execution_count": 6,
     "metadata": {},
     "output_type": "execute_result"
    }
   ],
   "source": [
    "features.shape"
   ]
  },
  {
   "cell_type": "code",
   "execution_count": null,
   "id": "dab8843e-1a6d-467f-acfe-2a0b06660245",
   "metadata": {},
   "outputs": [],
   "source": [
    "np.load(knn_path, allow_pickle=True)['data']"
   ]
  }
 ],
 "metadata": {
  "kernelspec": {
   "display_name": "Python 3 (ipykernel)",
   "language": "python",
   "name": "python3"
  },
  "language_info": {
   "codemirror_mode": {
    "name": "ipython",
    "version": 3
   },
   "file_extension": ".py",
   "mimetype": "text/x-python",
   "name": "python",
   "nbconvert_exporter": "python",
   "pygments_lexer": "ipython3",
   "version": "3.7.13"
  }
 },
 "nbformat": 4,
 "nbformat_minor": 5
}
